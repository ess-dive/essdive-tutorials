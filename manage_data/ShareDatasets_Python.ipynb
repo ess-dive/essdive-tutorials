{
 "cells": [
  {
   "cell_type": "markdown",
   "id": "0b9a6771",
   "metadata": {},
   "source": [
    "# Welcome to ESS-DIVE's Jupyter Notebook for Sharing Datasets\n",
    "This Jupyter Notebook will help **data contributors**: \n",
    "- Find out who currently can access their datasets and under which access levels\n",
    "- Grant access to view, edit, or manage their datasets\n",
    "\n",
    "Written By: Madison Burrus (LBNL)\n",
    "\n",
    "---\n",
    "\n",
    "**This notebook uses ESS-DIVE's test system, Sandbox, by default.** When you are ready to share your datasets on ESS-DIVE's main repository, change the default endpoint."
   ]
  },
  {
   "cell_type": "code",
   "execution_count": 1,
   "id": "5d96fbaa",
   "metadata": {},
   "outputs": [],
   "source": [
    "# This notebook requires Python 3.\n",
    "# ===================================\n",
    "\n",
    "from ipywidgets import widgets, interact\n",
    "import json\n",
    "import requests\n",
    "import os"
   ]
  },
  {
   "cell_type": "markdown",
   "id": "236a7e31",
   "metadata": {},
   "source": [
    "# 1. Setup ESS-DIVE API"
   ]
  },
  {
   "cell_type": "markdown",
   "id": "4d2d2c32",
   "metadata": {},
   "source": [
    "Click on the link to login to ESS-DIVE, navigate to settings > authentication token and copy token: https://data-sandbox.ess-dive.lbl.gov/\n",
    "\n",
    "\n",
    "**This token must be updated every 24hrs**"
   ]
  },
  {
   "cell_type": "code",
   "execution_count": 2,
   "id": "a526f4a1",
   "metadata": {},
   "outputs": [
    {
     "data": {
      "application/vnd.jupyter.widget-view+json": {
       "model_id": "be55e91921484ee5a7c1fb17f954cc16",
       "version_major": 2,
       "version_minor": 0
      },
      "text/plain": [
       "Text(value='', description='Token:')"
      ]
     },
     "metadata": {},
     "output_type": "display_data"
    }
   ],
   "source": [
    "# Setup token\n",
    "token = widgets.Text(\"\",description=\"Token:\") \n",
    "display(token)"
   ]
  },
  {
   "cell_type": "code",
   "execution_count": 3,
   "id": "00e14278",
   "metadata": {},
   "outputs": [
    {
     "name": "stdout",
     "output_type": "stream",
     "text": [
      "Select a dataset on Sandbox that you have created to test out sharing: https://data-sandbox.ess-dive.lbl.gov\n",
      "Dataset Identifier Here: ess-dive-c0841df396bf9f4-20231102T164859885\n"
     ]
    }
   ],
   "source": [
    "# Setup Dataset Identifier\n",
    "print(\"Select a dataset on Sandbox that you have created to test out sharing: https://data-sandbox.ess-dive.lbl.gov\")\n",
    "dataset_identifier = input('Dataset Identifier Here: ')"
   ]
  },
  {
   "cell_type": "code",
   "execution_count": 4,
   "id": "ed3d5835",
   "metadata": {},
   "outputs": [
    {
     "data": {
      "application/vnd.jupyter.widget-view+json": {
       "model_id": "4a342d123d4b479fa9b34809ddc5c59d",
       "version_major": 2,
       "version_minor": 0
      },
      "text/plain": [
       "Text(value='https://api-sandbox.ess-dive.lbl.gov/', description='Default Endpoint:')"
      ]
     },
     "metadata": {},
     "output_type": "display_data"
    }
   ],
   "source": [
    "# Setup ESS-DIVE data package API\n",
    "base = widgets.Text(\"https://api-sandbox.ess-dive.lbl.gov/\",description=\"Default Endpoint:\")\n",
    "display(base)"
   ]
  },
  {
   "cell_type": "markdown",
   "id": "19f43e0d",
   "metadata": {},
   "source": [
    "**Always re-run the following cell when you update any of the above inputs**"
   ]
  },
  {
   "cell_type": "code",
   "execution_count": 5,
   "id": "83025359",
   "metadata": {},
   "outputs": [],
   "source": [
    "# Re-run this cell whenever your inputs change\n",
    "\n",
    "header_authorization =  f\"bearer {token.value}\"\n",
    "endpoint = \"packages\"\n",
    "permission_endpoint = \"share\""
   ]
  },
  {
   "cell_type": "markdown",
   "id": "1aff3956",
   "metadata": {},
   "source": [
    "# 2. Lookup Dataset Permissions\n",
    "\n",
    "This uses the call `GET/ packages/{identifier}/share`. It will tell you who currently has access to your dataset. \n",
    "\n",
    "Detailed information on this call is available in the Dataset API technical documentation: [Lookup Dataset Permissions](https://api-sandbox.ess-dive.lbl.gov/#/Dataset%20Sharing/getDatasetPermissions)"
   ]
  },
  {
   "cell_type": "code",
   "execution_count": 6,
   "id": "59f1ceb9",
   "metadata": {},
   "outputs": [
    {
     "name": "stdout",
     "output_type": "stream",
     "text": [
      "The following ORCiD accounts currently have access to this dataset:\n"
     ]
    },
    {
     "data": {
      "text/plain": [
       "{'id': 'ess-dive-c0841df396bf9f4-20231102T164859885',\n",
       " 'accessPolicy': {'manage': ['http://orcid.org/0000-0003-2296-4698'],\n",
       "  'edit': [],\n",
       "  'view': []}}"
      ]
     },
     "metadata": {},
     "output_type": "display_data"
    }
   ],
   "source": [
    "get_permission_url = \"{}{}/{}/{}\".format(base.value,endpoint,dataset_identifier,permission_endpoint)\n",
    "\n",
    "get_permission_response = requests.get(get_permission_url,\n",
    "                                      headers={\"Authorization\":header_authorization})\n",
    "\n",
    "if get_permission_response.status_code == 200:\n",
    "    # Success\n",
    "    response=get_permission_response.json()\n",
    "    print(\"The following ORCiD accounts currently have access to this dataset:\")\n",
    "    display(response)\n",
    "else:\n",
    "    # There was an error\n",
    "    print(get_permission_response.text)"
   ]
  },
  {
   "cell_type": "markdown",
   "id": "4bbc2808",
   "metadata": {},
   "source": [
    "# 3. Save Current Dataset Permissions"
   ]
  },
  {
   "cell_type": "code",
   "execution_count": 7,
   "id": "42e63895",
   "metadata": {},
   "outputs": [],
   "source": [
    "# Define file name, directory name, and file paths\n",
    "file_name = 'dataset-permissions.json'\n",
    "new_dir = 'ESS-DIVE_Downloads'\n",
    "parent_dir = os.getcwd()\n",
    "path = os.path.join(parent_dir, new_dir)\n",
    "file_path=os.path.join(path, file_name)"
   ]
  },
  {
   "cell_type": "code",
   "execution_count": 8,
   "id": "667d95f8",
   "metadata": {},
   "outputs": [
    {
     "name": "stdout",
     "output_type": "stream",
     "text": [
      "Directory 'ESS-DIVE_Downloads' created\n"
     ]
    }
   ],
   "source": [
    "# attempt to make the new folder if it doesn't already exist\n",
    "try: \n",
    "    os.mkdir(path)\n",
    "    print(\"Directory '% s' created\" % new_dir)\n",
    "except OSError as error: \n",
    "    print(error)  "
   ]
  },
  {
   "cell_type": "code",
   "execution_count": 12,
   "id": "a4a1ff2b",
   "metadata": {},
   "outputs": [
    {
     "name": "stdout",
     "output_type": "stream",
     "text": [
      "Your dataset permission file has been saved!\n"
     ]
    }
   ],
   "source": [
    "# Save permissions file\n",
    "try:    \n",
    "    with open(file_path, 'w') as fp:\n",
    "        json.dump(response, fp)\n",
    "    print(\"Your dataset permission file has been saved!\")\n",
    "except:\n",
    "    print(\"Save failed.\")"
   ]
  },
  {
   "cell_type": "markdown",
   "id": "de8a3336",
   "metadata": {},
   "source": [
    "# 4. Change Dataset Permissions & Share Dataset\n",
    "\n",
    "This uses the call `PUT/packages/{identifier}/share`. **This call will overwrite your current dataset permissions.** \n",
    "\n",
    "Detailed information on this call is available in the Dataset API technical documentation: \n",
    "[Update Dataset Permissions](https://api-sandbox.ess-dive.lbl.gov/#/Dataset%20Sharing/updateDatasetPermissions)"
   ]
  },
  {
   "cell_type": "markdown",
   "id": "3eb8ad8d",
   "metadata": {},
   "source": [
    "### Define request body (required)\n",
    "There are three possible access levels that you can grant. [Learn about data permissions on ESS-DIVE](https://docs.ess-dive.lbl.gov/manage-data/share-data-permissions).\n",
    "\n",
    "Formatting requirements for the request body are explained in detail in the technical documentation under \"Schemas\" > \"AccessPolicy\"."
   ]
  },
  {
   "cell_type": "code",
   "execution_count": 10,
   "id": "be4f4e03",
   "metadata": {},
   "outputs": [],
   "source": [
    "# Enter user orcids in the format `\"http://orcid.org/XXX-XXXX-XXXX-XXXX\"` \n",
    "\n",
    "json_permission = {\n",
    "    \"manage\": [],\n",
    "    \"edit\": [],\n",
    "    \"view\": [\"http://orcid.org/0000-0002-0439-9173\"]\n",
    "}"
   ]
  },
  {
   "cell_type": "markdown",
   "id": "406fd2c8",
   "metadata": {},
   "source": [
    "### Send PUT Request"
   ]
  },
  {
   "cell_type": "markdown",
   "id": "8109a32f",
   "metadata": {},
   "source": [
    "**Infomrational Warning!**  The people you share your dataset with must have logged into ESS-DIVE and/or Sandbox with the ORCID you provided. It is not possible to share a dataset with someone who has not logged into ESS-DIVE before."
   ]
  },
  {
   "cell_type": "code",
   "execution_count": 11,
   "id": "efab86cc",
   "metadata": {},
   "outputs": [
    {
     "name": "stdout",
     "output_type": "stream",
     "text": [
      "The following ORCiD accounts have been added to the dataset, ess-dive-c0841df396bf9f4-20231102T164859885:\n"
     ]
    },
    {
     "data": {
      "text/plain": [
       "{'detail': 'Access policy successfully updated.',\n",
       " 'id': 'ess-dive-c0841df396bf9f4-20231102T164859885',\n",
       " 'accessPolicy': {'manage': [],\n",
       "  'edit': [],\n",
       "  'view': ['http://orcid.org/0000-0002-0439-9173']}}"
      ]
     },
     "metadata": {},
     "output_type": "display_data"
    }
   ],
   "source": [
    "put_permission_url = \"{}{}/{}/{}\".format(base.value,endpoint,dataset_identifier,permission_endpoint)\n",
    "\n",
    "put_permission_response = requests.put(put_permission_url, \n",
    "                                       headers={'Authorization': header_authorization,\n",
    "                                                'Content-Type': 'application/json'}, \n",
    "                                       data=json.dumps(json_permission))\n",
    "\n",
    "if put_permission_response.status_code == 200:\n",
    "    # Success\n",
    "    response=put_permission_response.json()\n",
    "    print(f\"The following ORCiD accounts have been added to the dataset, {dataset_identifier}:\")\n",
    "    display(response)\n",
    "else:\n",
    "    # There was an error\n",
    "    print(put_permission_response.text)"
   ]
  },
  {
   "cell_type": "code",
   "execution_count": null,
   "id": "e92cb319",
   "metadata": {},
   "outputs": [],
   "source": []
  }
 ],
 "metadata": {
  "kernelspec": {
   "display_name": "Python 3 (ipykernel)",
   "language": "python",
   "name": "python3"
  },
  "language_info": {
   "codemirror_mode": {
    "name": "ipython",
    "version": 3
   },
   "file_extension": ".py",
   "mimetype": "text/x-python",
   "name": "python",
   "nbconvert_exporter": "python",
   "pygments_lexer": "ipython3",
   "version": "3.8.5"
  }
 },
 "nbformat": 4,
 "nbformat_minor": 5
}
